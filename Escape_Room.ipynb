{
 "cells": [
  {
   "cell_type": "code",
   "execution_count": null,
   "metadata": {},
   "outputs": [],
   "source": [
    "# Quest: Escape Room \n",
    "\n",
    "# You woke up on the couche. \n",
    "# Unlock Door A with the key at the Piano \n",
    "# Bedroom 1 has door A, B and C. Underneath the queen bed is a key to go through door B. Unlock door B. \n",
    "# Bedroom 2 has a double bed, a dresser and door B. Hidden under the double bed is the key for door C. WIthin the dresser is a key for door D. \n",
    "# Living Room. Exploration reveals a dining table, Door C, and Door D. With the key for Door D in your grasp, you unlock it. Ourside is the freedom\n",
    "\n",
    "#defining rooms \n",
    "living_room = {\"name\" : \"living room\", \"type\" : \"room\", \"description\" : \"a big room with a big sofa and a TV\", \"items\" : [\"sofa\", \"tv\"], \"position\" : \"east\"}\n",
    "game_room = {\"name\" : \"game room\", \"type\" : \"room\", \"description\" : \"a room with a piano\", \"items\" : [\"piano\"], \"position\" : \"west\"}\n",
    "bedroom = {\"name\" : \"bedroom\", \"type\" : \"room\", \"description\" : \"a room with a bed\", \"items\" : [\"bed\"], \"position\" : \"north\"}\n",
    "bathroom = {\"name\" : \"bathroom\", \"type\" : \"room\", \"description\" : \"a room with a shower and a toilet\", \"items\" : [\"showe\", \"toilet\"], \"position\" : \"south\"}\n",
    "\n",
    "\n"
   ]
  },
  {
   "cell_type": "code",
   "execution_count": null,
   "metadata": {},
   "outputs": [],
   "source": [
    "set\n",
    "game_room = {\"name\": \"game_room\", \"type\" : \"room\"}\n",
    "bedroom_1 = {\"name\": \"bedroom_1\", \"type\" : \"room\"}\n",
    "bedroom_2 = {\"name\": \"bedroom_2\", \"type\" : \"room\"}\n",
    "livingroom = {\"name\": \"livingroom\", \"type\" : \"room\"}\n",
    "\n",
    "door_a = {\"name\": \"door_a\", \"type\": \"door\"}\n",
    "door_b = {\"name\": \"door_a\", \"type\": \"door\"}\n",
    "door_c = {\"name\": \"door_a\", \"type\": \"door\"}\n",
    "door_d = {\"name\": \"door_a\", \"type\": \"door\"}\n",
    "\n",
    "\n"
   ]
  },
  {
   "cell_type": "code",
   "execution_count": null,
   "metadata": {},
   "outputs": [],
   "source": []
  }
 ],
 "metadata": {
  "language_info": {
   "name": "python"
  }
 },
 "nbformat": 4,
 "nbformat_minor": 2
}

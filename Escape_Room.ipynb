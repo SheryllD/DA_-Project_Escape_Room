{
 "cells": [
  {
   "cell_type": "code",
   "execution_count": null,
   "metadata": {
    "vscode": {
     "languageId": "plaintext"
    }
   },
   "outputs": [],
   "source": [
    "# Quest: Escape Room \n",
    "\n",
    "# You woke up on the couche \n",
    "# Unlock Door A with the key at the Piano \n",
    "# Bedroom 1 has door A, B and C. Underneath the queen bed is a key to go through door B. Unlock door B. \n",
    "# Bedroom 2 has a double bed, a dresser and door B. Hidden under the double bed is the key for door C. WIthin the dresser is a key for door D. \n",
    "# Living Room. Exploration reveals a dining table, Door C, and Door D. With the key for Door D in your grasp, you unlock it. Ourside is the freedom\n",
    "\n",
    "\n",
    "\n",
    "\n"
   ]
  }
 ],
 "metadata": {
  "language_info": {
   "name": "python"
  }
 },
 "nbformat": 4,
 "nbformat_minor": 2
}
